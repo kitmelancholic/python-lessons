{
 "nbformat": 4,
 "nbformat_minor": 0,
 "metadata": {
  "colab": {
   "provenance": []
  },
  "kernelspec": {
   "name": "python3",
   "display_name": "Python 3 (ipykernel)",
   "language": "python"
  },
  "language_info": {
   "name": "python"
  }
 },
 "cells": [
  {
   "cell_type": "markdown",
   "source": [
    "# I. Змінні та памʼять."
   ],
   "metadata": {
    "id": "p9wwt0LZzNvn"
   }
  },
  {
   "cell_type": "markdown",
   "source": [
    "1. Створити змінні, що посилаються на два цілих числа, що однакові за значенням, де значення належить проміжку від -5 до 256. Перевірте, чи будуть ці змінні рівні тільки за значенням або ж ще будуть посилатися на один і той самий обʼєкт в памʼяті? Наведіть код та дайте текстову відповідь нижче."
   ],
   "metadata": {
    "id": "HTJrrm95xSV9"
   }
  },
  {
   "cell_type": "code",
   "metadata": {
    "id": "TATni2vzayjG",
    "ExecuteTime": {
     "end_time": "2025-02-26T11:50:16.653953Z",
     "start_time": "2025-02-26T11:50:16.650788Z"
    }
   },
   "source": [
    "a = 100\n",
    "b = 100\n",
    "\n",
    "print(\"Task 1:\")\n",
    "print(\"a == b:\", a == b)\n",
    "print(\"a is b:\", a is b)"
   ],
   "outputs": [
    {
     "name": "stdout",
     "output_type": "stream",
     "text": [
      "Task 1:\n",
      "a == b: True\n",
      "a is b: True\n"
     ]
    }
   ],
   "execution_count": 2
  },
  {
   "cell_type": "markdown",
   "source": [
    "Оскільки значення належать до інтервалу від -5 до 256, Python використовує кешування\n",
    "малих цілих чисел, тому обидві змінні не тільки рівні за значенням, а й посилаються\n",
    "на один і той самий обʼєкт в памʼяті."
   ],
   "metadata": {
    "id": "zfRG_o3WbRdg"
   }
  },
  {
   "cell_type": "markdown",
   "source": [
    "2. За допомогою якої функції можна перевірити належність змінної до вказаного типу даних (напр. чи змінна True посилається на значення булевого та цілочисленого типу)?"
   ],
   "metadata": {
    "id": "ISORzt6M3vAt"
   }
  },
  {
   "cell_type": "code",
   "source": [
    "print(\"Task 2:\")\n",
    "print(\"isinstance(True, bool):\", isinstance(True, bool))\n",
    "print(\"isinstance(True, int):\", isinstance(True, int))"
   ],
   "metadata": {
    "id": "9vL9CFaMbfyo",
    "ExecuteTime": {
     "end_time": "2025-02-26T11:50:37.261602Z",
     "start_time": "2025-02-26T11:50:37.258592Z"
    }
   },
   "outputs": [
    {
     "name": "stdout",
     "output_type": "stream",
     "text": [
      "Task 2:\n",
      "isinstance(True, bool): True\n",
      "isinstance(True, int): True\n"
     ]
    }
   ],
   "execution_count": 3
  },
  {
   "cell_type": "markdown",
   "source": [
    "# II. Цілі числа та числа з рухомою комою"
   ],
   "metadata": {
    "id": "tRxugKAxwYLw"
   }
  },
  {
   "cell_type": "markdown",
   "source": [
    "3. Створити дві змінні, що посилаються на будь-які ціле число та число з рухомою комою та продемонструвати такі арифметичні операції: додавання, віднімання, ділення, множення, ділення без залишку, ділення по модулю, приведення до ступеню. Всі результати операцій вивести на екран."
   ],
   "metadata": {
    "id": "NLHkgd5Gybc8"
   }
  },
  {
   "cell_type": "code",
   "source": [
    "int_num = 10\n",
    "float_num = 3.5\n",
    "\n",
    "addition = int_num + float_num\n",
    "subtraction = int_num - float_num\n",
    "multiplication = int_num * float_num\n",
    "division = int_num / float_num\n",
    "int_division = int_num // float_num\n",
    "modulo = int_num % float_num\n",
    "exponentiation = int_num ** float_num\n",
    "\n",
    "print(\"Task 3:\")\n",
    "print(\"Addition:\", addition)\n",
    "print(\"Subtraction:\", subtraction)\n",
    "print(\"Multiplication:\", multiplication)\n",
    "print(\"Division:\", division)\n",
    "print(\"Integer Division:\", int_division)\n",
    "print(\"Modulo:\", modulo)\n",
    "print(\"Exponentiation:\", exponentiation)"
   ],
   "metadata": {
    "id": "nb8u_3pjb2cA",
    "ExecuteTime": {
     "end_time": "2025-02-26T11:50:49.305067Z",
     "start_time": "2025-02-26T11:50:49.301210Z"
    }
   },
   "outputs": [
    {
     "name": "stdout",
     "output_type": "stream",
     "text": [
      "Task 3:\n",
      "Addition: 13.5\n",
      "Subtraction: 6.5\n",
      "Multiplication: 35.0\n",
      "Division: 2.857142857142857\n",
      "Integer Division: 2.0\n",
      "Modulo: 3.0\n",
      "Exponentiation: 3162.2776601683795\n"
     ]
    }
   ],
   "execution_count": 4
  },
  {
   "cell_type": "markdown",
   "source": [
    "4. Використовуючи змінні з вправи 3, продемонструйте механізм явного перетворення типів, де числа з рухомою комою перетворюються на цілі числа. Також визначте змінну, що посилається на значення булевого типу і спробуйте явно привести її до цілого числа."
   ],
   "metadata": {
    "id": "1kBClKgPzZnC"
   }
  },
  {
   "cell_type": "code",
   "source": [
    "converted_int = int(float_num)\n",
    "bool_var = True\n",
    "converted_bool = int(bool_var)\n",
    "\n",
    "print(\"Task 4:\")\n",
    "print(\"Float to int conversion:\", converted_int)\n",
    "print(\"Boolean to int conversion:\", converted_bool)"
   ],
   "metadata": {
    "id": "TbqJbkeUcKsD",
    "ExecuteTime": {
     "end_time": "2025-02-26T11:51:08.513713Z",
     "start_time": "2025-02-26T11:51:08.510416Z"
    }
   },
   "outputs": [
    {
     "name": "stdout",
     "output_type": "stream",
     "text": [
      "Task 4:\n",
      "Float to int conversion: 3\n",
      "Boolean to int conversion: 1\n"
     ]
    }
   ],
   "execution_count": 5
  },
  {
   "cell_type": "markdown",
   "source": [
    "# IІІ. Рядки (String)."
   ],
   "metadata": {
    "id": "EVJ7AflwxrZi"
   }
  },
  {
   "cell_type": "markdown",
   "source": [
    "5. Створити пустий рядок двома різними способами."
   ],
   "metadata": {
    "id": "_s5ECzz9zE61"
   }
  },
  {
   "cell_type": "code",
   "source": [
    "empty_str1 = \"\"\n",
    "empty_str2 = str()"
   ],
   "metadata": {
    "id": "fkZJHu9Scvc-",
    "ExecuteTime": {
     "end_time": "2025-02-26T11:51:48.968913Z",
     "start_time": "2025-02-26T11:51:48.966622Z"
    }
   },
   "outputs": [],
   "execution_count": 6
  },
  {
   "cell_type": "markdown",
   "source": [
    "6. Створити рядок з апострофом. Зробити його сирим. Вивести обидва рядка на екран."
   ],
   "metadata": {
    "id": "4Bdn9J3MzLf_"
   }
  },
  {
   "cell_type": "code",
   "source": [
    "normal_string = \"It's a beautiful day.\"\n",
    "raw_string = r\"It's a beautiful day.\"\n",
    "\n",
    "print(\"Task 6:\")\n",
    "print(\"Normal string:\", normal_string)\n",
    "print(\"Raw string:\", raw_string)"
   ],
   "metadata": {
    "id": "ivji_hsmc0GH",
    "ExecuteTime": {
     "end_time": "2025-02-26T11:51:57.179064Z",
     "start_time": "2025-02-26T11:51:57.176082Z"
    }
   },
   "outputs": [
    {
     "name": "stdout",
     "output_type": "stream",
     "text": [
      "Task 6:\n",
      "Normal string: It's a beautiful day.\n",
      "Raw string: It's a beautiful day.\n"
     ]
    }
   ],
   "execution_count": 7
  },
  {
   "cell_type": "markdown",
   "source": [
    "7. Створити змінну, що буде посилатися на Ваше прізвище латинкою. Створити форматований рядок, який буде мати вигляд \"My surname is ______\", де на місці нижніх підкреслень буде Ваше прізвище зі змінної."
   ],
   "metadata": {
    "id": "bg_d8wM4z8dS"
   }
  },
  {
   "cell_type": "code",
   "source": [
    "surname = \"Kostyk\"\n",
    "formatted_string = f\"My surname is {surname}\"\n",
    "\n",
    "print(\"Task 7:\")\n",
    "print(formatted_string)"
   ],
   "metadata": {
    "id": "kuxFgpWndACq",
    "ExecuteTime": {
     "end_time": "2025-02-26T11:52:26.757497Z",
     "start_time": "2025-02-26T11:52:26.754276Z"
    }
   },
   "outputs": [
    {
     "name": "stdout",
     "output_type": "stream",
     "text": [
      "Task 7:\n",
      "My surname is Kostyk\n"
     ]
    }
   ],
   "execution_count": 8
  },
  {
   "cell_type": "markdown",
   "source": [
    "8. Маючи рядок \"My dog is crazy.\" перетворити його на список [\"my\", \"dog\", \"is\", \"crazy\"]"
   ],
   "metadata": {
    "id": "1Nc6RqvQ0hxU"
   }
  },
  {
   "cell_type": "code",
   "source": [
    "sentence = \"My dog is crazy.\"\n",
    "words = sentence.replace(\".\", \"\").lower().split()\n",
    "\n",
    "print(\"Task 8:\")\n",
    "print(words)"
   ],
   "metadata": {
    "id": "w1Ya4RqedUhw"
   },
   "execution_count": null,
   "outputs": []
  },
  {
   "cell_type": "markdown",
   "source": [
    "# IV. Робота зі списками."
   ],
   "metadata": {
    "id": "GYVqN9uP1D4n"
   }
  },
  {
   "cell_type": "markdown",
   "source": [
    "9. Створити список двома різними за синтаксисом способами. За допомогою вбудованої функції обчисліть довжину одного з них."
   ],
   "metadata": {
    "id": "7-DeDunw2sO-"
   }
  },
  {
   "cell_type": "code",
   "source": [
    "list1 = [1, 2, 3, 4]\n",
    "list2 = list((5, 6, 7, 8))\n",
    "\n",
    "print(\"Task 9:\")\n",
    "print(\"Length of list1:\", len(list1))"
   ],
   "metadata": {
    "id": "zxg06Uuxdyoh",
    "ExecuteTime": {
     "end_time": "2025-02-26T11:53:15.603864Z",
     "start_time": "2025-02-26T11:53:15.601343Z"
    }
   },
   "outputs": [
    {
     "name": "stdout",
     "output_type": "stream",
     "text": [
      "Task 9:\n",
      "Length of list1: 4\n"
     ]
    }
   ],
   "execution_count": 9
  },
  {
   "cell_type": "markdown",
   "source": [
    "10. Створіть два списка та за допомогою спеціального методу додайте другий з них в якості останнього елемента першого."
   ],
   "metadata": {
    "id": "8vmGUTjL22gI"
   }
  },
  {
   "cell_type": "code",
   "source": [
    "list_a = [1, 2, 3]\n",
    "list_b = ['a', 'b', 'c']\n",
    "list_a.append(list_b)\n",
    "print(\"Task 10:\")\n",
    "print(\"List after appending list_b:\", list_a)"
   ],
   "metadata": {
    "id": "uHtjWYw7d7hm",
    "ExecuteTime": {
     "end_time": "2025-02-26T11:53:28.201397Z",
     "start_time": "2025-02-26T11:53:28.198582Z"
    }
   },
   "outputs": [
    {
     "name": "stdout",
     "output_type": "stream",
     "text": [
      "Task 10:\n",
      "List after appending list_b: [1, 2, 3, ['a', 'b', 'c']]\n"
     ]
    }
   ],
   "execution_count": 10
  },
  {
   "cell_type": "markdown",
   "source": [
    "11. Створіть список, де елементами цього списку також є списки. Отримай перший елемент з останнього рядка та виведи значення на екран."
   ],
   "metadata": {
    "id": "JC3BkD-67_--"
   }
  },
  {
   "cell_type": "code",
   "source": [
    "list_of_lists = [[1, 2], [3, 4], [5, 6]]\n",
    "first_element_last_inner = list_of_lists[-1][0]\n",
    "print(\"Task 11:\")\n",
    "print(\"First element of the last inner list:\", first_element_last_inner)"
   ],
   "metadata": {
    "id": "Kz2jZHsGeLlz",
    "ExecuteTime": {
     "end_time": "2025-02-26T11:53:33.699238Z",
     "start_time": "2025-02-26T11:53:33.696393Z"
    }
   },
   "outputs": [
    {
     "name": "stdout",
     "output_type": "stream",
     "text": [
      "Task 11:\n",
      "First element of the last inner list: 5\n"
     ]
    }
   ],
   "execution_count": 11
  },
  {
   "cell_type": "markdown",
   "source": [
    "12. Створіть список з десяти елементів різного типу. Отримайте всі елементи, окрім двох перших та двох останніх та збережіть їх в новій змінній."
   ],
   "metadata": {
    "id": "JA47PKTv8zFK"
   }
  },
  {
   "cell_type": "code",
   "source": [
    "mixed_list = [1, \"two\", 3.0, True, None, [5], (6,), {7}, {8: \"eight\"}, b'nine']\n",
    "middle_elements = mixed_list[2:-2]\n",
    "\n",
    "print(\"Task 12:\")\n",
    "print(\"Middle elements:\", middle_elements)"
   ],
   "metadata": {
    "id": "_rHdUR-ueP4-"
   },
   "execution_count": null,
   "outputs": []
  },
  {
   "cell_type": "markdown",
   "source": [
    "# V. Робота з кортежами."
   ],
   "metadata": {
    "id": "pCjR1dJb1Qbi"
   }
  },
  {
   "cell_type": "markdown",
   "source": [
    "14. Створити кортеж з один елементом."
   ],
   "metadata": {
    "id": "fAZCxAX06R_k"
   }
  },
  {
   "cell_type": "code",
   "source": [
    "single_element_tuple = (42,)\n",
    "print(\"Task 14:\")\n",
    "print(\"Single element tuple:\", single_element_tuple)"
   ],
   "metadata": {
    "id": "H7d82WkQev3e",
    "ExecuteTime": {
     "end_time": "2025-02-26T11:53:51.057914Z",
     "start_time": "2025-02-26T11:53:51.055044Z"
    }
   },
   "outputs": [
    {
     "name": "stdout",
     "output_type": "stream",
     "text": [
      "Task 14:\n",
      "Single element tuple: (42,)\n"
     ]
    }
   ],
   "execution_count": 12
  },
  {
   "cell_type": "markdown",
   "source": [
    "15. Порівняйте список та кортеж. Назвіть схожості та відмінності, випадки використання."
   ],
   "metadata": {
    "id": "8LCtYcmI6w1M"
   }
  },
  {
   "cell_type": "markdown",
   "source": [
    "Список (list) є змінним типом даних, тобто його можна змінювати (додавати, видаляти, змінювати елементи),\n",
    "тоді як кортеж (tuple) є незмінним після створення. Через це кортежі часто використовують для зберігання\n",
    "даних, які не повинні змінюватись (наприклад, як ключі в словниках або як константні набори даних),\n",
    "а списки застосовують, коли потрібна можливість модифікації колекції."
   ],
   "metadata": {
    "id": "fUsN1Hnue0C6"
   }
  },
  {
   "cell_type": "markdown",
   "source": [
    "16. Створіть кортеж з 11ти елементів чисел з рухомою комою та отримайте кожен парний за індексом елемент в зворотньому порядку. Наприклад, маючи (1.2, 2.3, 3.3, 4.3, 5.3, 6.3, 7.3, 8.3, 9.3, 0.3), отримати (0.3, 8.3, 6.3, 4.3, 2.3). Результат збережіть в нову змінну та виведіть на екран."
   ],
   "metadata": {
    "id": "m0xrwFijAmDD"
   }
  },
  {
   "cell_type": "code",
   "source": [
    "tuple_floats = (1.2, 2.3, 3.3, 4.3, 5.3, 6.3, 7.3, 8.3, 9.3, 0.3, 10.3)\n",
    "\n",
    "selected = tuple_floats[1:10:2]\n",
    "reversed_selected = selected[::-1]\n",
    "\n",
    "print(\"Task 16:\")\n",
    "print(\"Reversed selected elements:\", reversed_selected)"
   ],
   "metadata": {
    "id": "p-5DAH6XfAGA",
    "ExecuteTime": {
     "end_time": "2025-02-26T11:56:44.123187Z",
     "start_time": "2025-02-26T11:56:44.120152Z"
    }
   },
   "outputs": [
    {
     "name": "stdout",
     "output_type": "stream",
     "text": [
      "Task 16:\n",
      "Reversed selected elements: (0.3, 8.3, 6.3, 4.3, 2.3)\n"
     ]
    }
   ],
   "execution_count": 13
  },
  {
   "cell_type": "markdown",
   "source": [
    "# VI. Множини (Set)."
   ],
   "metadata": {
    "id": "rW_I9dt3x6cW"
   }
  },
  {
   "cell_type": "markdown",
   "source": [
    "17. Створити множину без елементів. Після цого за допомогою методу додайте кілька різних елементів до множини. Чи множини є змінним типом даних?"
   ],
   "metadata": {
    "id": "zNjRLHLw1Bgg"
   }
  },
  {
   "cell_type": "code",
   "source": [
    "empty_set = set()\n",
    "empty_set.add(1)\n",
    "empty_set.add(\"two\")\n",
    "empty_set.add(3.0)\n",
    "print(\"Task 17:\")\n",
    "print(\"Set with elements:\", empty_set)"
   ],
   "metadata": {
    "id": "KOv7zc2Kfo4N",
    "ExecuteTime": {
     "end_time": "2025-02-26T11:56:50.538831Z",
     "start_time": "2025-02-26T11:56:50.535910Z"
    }
   },
   "outputs": [
    {
     "name": "stdout",
     "output_type": "stream",
     "text": [
      "Task 17:\n",
      "Set with elements: {3.0, 1, 'two'}\n"
     ]
    }
   ],
   "execution_count": 14
  },
  {
   "cell_type": "markdown",
   "source": "Множини (set) є змінними, тому можна додавати або видаляти елементи після створення",
   "metadata": {
    "id": "vxS6dVYiftZQ"
   }
  },
  {
   "cell_type": "markdown",
   "source": [
    "18. Створити множину, маючи список my_list = [1, 1, 2, 67, 67, 8, 9]. Пояснити, чому \"зникли\" деякі елементи."
   ],
   "metadata": {
    "id": "gHpT0Zw_1HEF"
   }
  },
  {
   "cell_type": "code",
   "source": [
    "my_list = [1, 1, 2, 67, 67, 8, 9]\n",
    "set_from_list = set(my_list)\n",
    "print(\"Task 18:\")\n",
    "print(\"Set from list:\", set_from_list)"
   ],
   "metadata": {
    "id": "qCN4uvJ_fxmu"
   },
   "execution_count": null,
   "outputs": []
  },
  {
   "cell_type": "markdown",
   "source": "При перетворенні списку у множину повторювані елементи видаляються, оскільки множина містить тільки унікальні значення.",
   "metadata": {
    "id": "tFNc1e20fyny"
   }
  },
  {
   "cell_type": "markdown",
   "source": [
    "19. Створіть дві множини. Продемонстуйте над ними операції: обʼєднання, різниці, пересічі та симетричної різниці. Використовуйте методи, що не змінюють множини, а створюють нові."
   ],
   "metadata": {
    "id": "SRMkGizS1UwY"
   }
  },
  {
   "cell_type": "code",
   "source": [
    "set1 = {1, 2, 3, 4}\n",
    "set2 = {3, 4, 5, 6}\n",
    "\n",
    "union_set = set1.union(set2)\n",
    "difference_set = set1.difference(set2)\n",
    "intersection_set = set1.intersection(set2)\n",
    "symmetric_difference_set = set1.symmetric_difference(set2)\n",
    "\n",
    "print(\"Task 19:\")\n",
    "print(\"Union:\", union_set)\n",
    "print(\"Difference (set1 - set2):\", difference_set)\n",
    "print(\"Intersection:\", intersection_set)\n",
    "print(\"Symmetric Difference:\", symmetric_difference_set)"
   ],
   "metadata": {
    "id": "h0T-VuDnf3Ri",
    "ExecuteTime": {
     "end_time": "2025-02-26T11:57:26.908369Z",
     "start_time": "2025-02-26T11:57:26.904707Z"
    }
   },
   "outputs": [
    {
     "name": "stdout",
     "output_type": "stream",
     "text": [
      "Task 19:\n",
      "Union: {1, 2, 3, 4, 5, 6}\n",
      "Difference (set1 - set2): {1, 2}\n",
      "Intersection: {3, 4}\n",
      "Symmetric Difference: {1, 2, 5, 6}\n"
     ]
    }
   ],
   "execution_count": 15
  },
  {
   "cell_type": "markdown",
   "source": [
    "# VII. Словники (Dictionary)."
   ],
   "metadata": {
    "id": "kWc8gkzTx7Ea"
   }
  },
  {
   "cell_type": "markdown",
   "source": [
    "20. Створіть пустий словник. До нього додайте чотири пари елементів такі, щоб їхні ключі були різних типів. Чи може список бути ключем? Чому?"
   ],
   "metadata": {
    "id": "i5FLwj-B2ybQ"
   }
  },
  {
   "cell_type": "code",
   "source": [
    "my_dict = {}\n",
    "my_dict[\"name\"] = \"Alice\"    # ключ типу str\n",
    "my_dict[42] = \"answer\"       # ключ типу int\n",
    "my_dict[(1, 2)] = \"tuple\"    # ключ типу tuple\n",
    "my_dict[True] = \"bool\"       # ключ типу bool\n",
    "\n",
    "print(\"Task 20:\")\n",
    "print(\"Dictionary:\", my_dict)"
   ],
   "metadata": {
    "id": "hxgv3BzrgLAV"
   },
   "execution_count": null,
   "outputs": []
  },
  {
   "cell_type": "markdown",
   "source": "Ключі в словнику повинні бути незмінними (hashable). Оскільки список є змінним, його використовувати як ключ не можна.",
   "metadata": {
    "id": "zwa7UVN-gR3m"
   }
  },
  {
   "cell_type": "markdown",
   "source": [
    "21. Створіть словник, де значенням в одній з пар теж буде словник, який теж має вкладений словник. Виведіть на екран значення, що міститься в словнику, що знаходиться на найнижчому рівні ієрархії вкладеності (найбільш внутрішній)."
   ],
   "metadata": {
    "id": "WM_pMlJsgoNf"
   }
  },
  {
   "cell_type": "code",
   "source": [
    "nested_dict = {\n",
    "    \"level1\": {\n",
    "        \"level2\": {\n",
    "            \"level3\": \"Deep value\"\n",
    "        }\n",
    "    },\n",
    "    \"other\": \"value\"\n",
    "}\n",
    "\n",
    "deep_value = nested_dict[\"level1\"][\"level2\"][\"level3\"]\n",
    "\n",
    "print(\"Task 21:\")\n",
    "print(\"Deep nested value:\", deep_value)"
   ],
   "metadata": {
    "id": "60dlP7IHhAy4",
    "ExecuteTime": {
     "end_time": "2025-02-26T11:58:02.030997Z",
     "start_time": "2025-02-26T11:58:02.028313Z"
    }
   },
   "outputs": [
    {
     "name": "stdout",
     "output_type": "stream",
     "text": [
      "Task 21:\n",
      "Deep nested value: Deep value\n"
     ]
    }
   ],
   "execution_count": 16
  },
  {
   "cell_type": "markdown",
   "source": [
    "# Вітаю! Ви велика(ий) молодець, що впоралась(вся). Похваліть себе та побалуйте чимось приємним. Я Вами пишаюся."
   ],
   "metadata": {
    "id": "xOZP0hkx6cCr"
   }
  },
  {
   "metadata": {},
   "cell_type": "code",
   "outputs": [],
   "execution_count": null,
   "source": ""
  }
 ]
}
